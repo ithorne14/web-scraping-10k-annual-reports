{
 "cells": [
  {
   "cell_type": "markdown",
   "metadata": {},
   "source": [
    "# Web Scraping 10-K Annual Reports\n",
    "This notebook contains code to scrape 10-K annual reports from the SEC website and analyze sentiment to predict stock price movements."
   ]
  },
  {
   "cell_type": "code",
   "execution_count": null,
   "metadata": {},
   "outputs": [],
   "source": [
    "# Load necessary libraries\n",
    "library(tidyverse)\n",
    "library(caret)  # For predictive modeling\n",
    "library(keyATM)\n",
    "library(quanteda)\n",
    "library(pdftools)\n",
    "library(tidytext)\n",
    "library(rvest)\n",
    "library(ldatuning)\n",
    "library(topicmodels)\n",
    "library(tm)\n",
    "library(XML)\n",
    "library(dplyr)\n",
    "library(ggplot2)\n",
    "library(httr)\n",
    "library(RSelenium)\n",
    "library(netstat)\n",
    "library(wdman)\n",
    "library(curl)\n",
    "library(rJava)"
   ]
  },
  {
   "cell_type": "code",
   "execution_count": null,
   "metadata": {},
   "outputs": [],
   "source": [
    "# Define the URL of the SEC page\n",
    "sec_site <- \"https://www.sec.gov/edgar/search/#/category=form-cat1&filter_forms=10-K\"\n",
    "\n",
    "driver <- rsDriver(browser = \"firefox\",\n",
    "                   chromever = NULL,\n",
    "                   verbose = F,\n",
    "                   port = free_port())\n",
    "\n",
    "remDr <- driver[[\"client\"]]\n",
    "remDr$navigate('https://www.sec.gov/edgar/search/#/category=form-cat1&filter_forms=10-K')"
   ]
  },
  {
   "cell_type": "code",
   "execution_count": null,
   "metadata": {},
   "outputs": [],
   "source": [
    "# Extract URLs from the SEC page\n",
    "test <- list()\n",
    "\n",
    "for(i in 1:50) {\n",
    "  remDr$navigate('https://www.sec.gov/edgar/search/#/category=form-cat1&filter_forms=10-K')\n",
    "  Sys.sleep(0)\n",
    "  links <- remDr$findElements(using = 'css selector', \".preview-file\")\n",
    "  links[[i]]$clickElement()\n",
    "  Sys.sleep(0)\n",
    "  test[[i]] <- read_html(remDr$getPageSource()[[1]]) %>%\n",
    "    html_elements(\"#open-file\") %>%\n",
    "    html_attrs() %>%\n",
    "    tibble() %>%\n",
    "    unnest(cols = c(.)) %>%\n",
    "    filter(str_detect(., \"https\")) %>%\n",
    "    pull(.) %>%\n",
    "    unname()\n",
    "  close_button <- remDr$findElement(using = 'css selector', \".close\")\n",
    "  close_button$clickElement()\n",
    "  Sys.sleep(0)\n",
    "}\n",
    "\n",
    "print(test)"
   ]
  },
  {
   "cell_type": "code",
   "execution_count": null,
   "metadata": {},
   "outputs": [],
   "source": [
    "# Function to predict stock price movement based on sentiment score\n",
    "predict_stock_movement <- function(sentiment_df, stock_prices) {\n",
    "  model_data <- stock_prices %>%\n",
    "    left_join(sentiment_df, by = c(\"symbol\" = \"ticker\")) %>%\n",
    "    filter(!is.na(sentiment_score)) %>%\n",
    "    select(date, close, sentiment_score)\n",
    "  model <- train(\n",
    "    close ~ sentiment_score,\n",
    "    data = model_data,\n",
    "    method = \"lm\"\n",
    "  )\n",
    "  predictions <- predict(model, newdata = model_data)\n",
    "  model_data <- model_data %>%\n",
    "    mutate(predicted_close = predictions)\n",
    "  return(model_data)\n",
    "}\n",
    "\n",
    "predicted_data <- predict_stock_movement(sentiment_df, stock_prices)\n",
    "print(predicted_data)"
   ]
  },
  {
   "cell_type": "code",
   "execution_count": null,
   "metadata": {},
   "outputs": [],
   "source": [
    "# Close the browser and server when done\n",
    "remDr$close()\n",
    "driver$server$stop()"
   ]
  }
 ],
 "metadata": {
  "kernelspec": {
   "display_name": "R",
   "language": "R",
   "name": "ir"
  },
  "language_info": {
   "codemirror_mode": "r",
   "file_extension": ".r",
   "mimetype": "text/x-r-source",
   "name": "R",
   "pygments_lexer": "r",
   "version": "4.0.2"
  }
 },
 "nbformat": 4,
 "nbformat_minor": 5
}
